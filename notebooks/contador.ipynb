{
 "cells": [
  {
   "cell_type": "markdown",
   "metadata": {},
   "source": [
    "# Inference of flux control coefficients under limited data\n",
    "\n",
    "In this notebook, I replicate the analysis performed by Contador *et al*, 2009 [1] with the linear-logarithmic inference framework. \n",
    "In particular, the task is to determine which flux control coefficients are constrained by a series of 5 overexpression experiments, measuring only the output flux of L-lysine\n",
    "\n",
    "1. Contador, C. A., Rizk, M. L., Asenjo, J. A., & Liao, J. C. (2009). Ensemble modeling for strain development of l-lysine-producing Escherichia coli. Metabolic Engineering, 11(4-5), 221–233. doi:10.1016/j.ymben.2009.04.002"
   ]
  },
  {
   "cell_type": "code",
   "execution_count": 1,
   "metadata": {},
   "outputs": [],
   "source": [
    "import os\n",
    "os.environ['MKL_THREADING_LAYER'] = 'GNU'\n",
    "\n",
    "\n",
    "import numpy as np\n",
    "import pandas as pd\n",
    "import scipy\n",
    "\n",
    "import pymc3 as pm\n",
    "\n",
    "import theano\n",
    "import theano.tensor as T\n",
    "from theano import sparse\n",
    "\n",
    "from tqdm import tqdm\n",
    "\n",
    "import matplotlib.pyplot as plt\n",
    "import seaborn as sns\n",
    "sns.set(context='notebook', style='ticks', color_codes=True, font_scale=1.2,\n",
    "        rc={'legend.frameon': False})\n",
    "\n",
    "%matplotlib inline"
   ]
  },
  {
   "cell_type": "markdown",
   "metadata": {},
   "source": [
    "Create initial guesses for the elasticity matrices and define reaction and metabolite labels"
   ]
  },
  {
   "cell_type": "code",
   "execution_count": 2,
   "metadata": {},
   "outputs": [],
   "source": [
    "import cobra\n",
    "import emll\n",
    "from emll.test_models import models\n",
    "from emll.util import create_elasticity_matrix\n",
    "\n",
    "model, N, v_star = models['contador']()\n",
    "\n",
    "with model:\n",
    "    model.reactions.EX_glc.lower_bound = -1.243\n",
    "    model.reactions.EX_lys.lower_bound = .30 * 1.243\n",
    "    model.reactions.zwf.bounds = (.778, .778)\n",
    "\n",
    "#    model.summary()\n",
    "\n",
    "    fluxes = model.optimize().fluxes\n",
    "\n",
    "v_star = np.abs(fluxes.values)\n",
    "\n",
    "for rxn in model.reactions:\n",
    "    rxn.bounds = (-1000, 1000)\n",
    "\n",
    "Ex = create_elasticity_matrix(model)\n",
    "Ey = np.zeros((len(model.reactions), 0))\n",
    "\n",
    "\n",
    "m_labels = [m.id for m in model.metabolites]\n",
    "r_labels = [r.id for r in model.reactions]\n",
    "\n",
    "ex_labels = np.array([['$\\epsilon_{' + '{0},{1}'.format(rlabel, mlabel) + '}$'\n",
    "                       for mlabel in m_labels] for rlabel in r_labels]).flatten()\n",
    "\n",
    "r_compartments = [\n",
    "    list(r.compartments)[0] if len(r.compartments) == 1 else 't'\n",
    "    for r in model.reactions\n",
    "]\n",
    "\n",
    "m_compartments = [\n",
    "    m.compartment for m in model.metabolites\n",
    "]\n",
    "\n",
    "# Add inhibitors from Contador\n",
    "# NADH inhibition of CS\n",
    "# Ex[model.reactions.index('gltA'),\n",
    "#         model.metabolites.index('NADH')] = -1\n",
    "\n",
    "# Ex[model.reactions.index('pfk'),\n",
    "#         model.metabolites.index('PEP')] = -1\n",
    "\n",
    "Ex[22] = 0.  # Glucose import"
   ]
  },
  {
   "cell_type": "markdown",
   "metadata": {},
   "source": [
    "Here we specify the experimental data, which consists of a series of overexpressions and resulting (assumed) differences in enzyme concentrations. Here we set the reference state as the optimal performing strain, and set each successive enzyme as a doubling of the enzyme concentration."
   ]
  },
  {
   "cell_type": "code",
   "execution_count": 3,
   "metadata": {},
   "outputs": [],
   "source": [
    "# flipped reaction order\n",
    "ox_order = [\n",
    "     ['dapD'],\n",
    "     ['dapE'],\n",
    "     ['dapD', 'dapE'],\n",
    "     ['dapD', 'dapE', 'dapB'],\n",
    "     ['dapD', 'dapE', 'dapB', 'lysC'],\n",
    "     ['dapD', 'dapE', 'dapB', 'lysC', 'dapA']\n",
    "]\n",
    "\n",
    "strains = [\n",
    "    'dapA, lysC, dapB, dapE',\n",
    "    'dapA, lysC, dapB, dapD',\n",
    "    'dapA, lysC, dapB',\n",
    "    'dapA, lysC',\n",
    "    'dapA',\n",
    "    'Wild Type'\n",
    "]\n",
    "\n",
    "n_exp = len(strains)\n",
    "nm, nr = N.shape\n",
    "      \n",
    "# Assumed 20% improvement from each doubling\n",
    "ox_results = np.array([27.3, 27.2, 26.5, 22.5, 8.9, 0.2]) / 30.0\n",
    "#ox_results = np.array([8.9, 0.2]) / 30.0"
   ]
  },
  {
   "cell_type": "markdown",
   "metadata": {},
   "source": [
    "These are the assumed lysine flux for each strain relative to the optimal strain design."
   ]
  },
  {
   "cell_type": "code",
   "execution_count": 4,
   "metadata": {},
   "outputs": [],
   "source": [
    "# yields = np.array([27.3, 27.2, 26.5, 22.5, 8.9, 0.2]) / 30.0\n",
    "# yields"
   ]
  },
  {
   "cell_type": "code",
   "execution_count": 5,
   "metadata": {},
   "outputs": [
    {
     "data": {
      "text/plain": [
       "array([0.91      , 0.90666667, 0.88333333, 0.75      , 0.29666667,\n",
       "       0.00666667])"
      ]
     },
     "execution_count": 5,
     "metadata": {},
     "output_type": "execute_result"
    }
   ],
   "source": [
    "ox_results"
   ]
  },
  {
   "cell_type": "markdown",
   "metadata": {},
   "source": [
    "### Create Linlog model object"
   ]
  },
  {
   "cell_type": "code",
   "execution_count": 6,
   "metadata": {},
   "outputs": [],
   "source": [
    "ll = emll.LinLogLeastNorm(N, Ex, Ey, v_star, driver='gelsy')\n",
    "from emll.util import initialize_elasticity"
   ]
  },
  {
   "cell_type": "code",
   "execution_count": 7,
   "metadata": {},
   "outputs": [],
   "source": [
    "rxn_index = {\n",
    "    'dapD': 0,\n",
    "    'dapE': 1,\n",
    "    'dapB': 2,\n",
    "    'lysC': 3,\n",
    "    'dapA': 4\n",
    "}"
   ]
  },
  {
   "cell_type": "code",
   "execution_count": 8,
   "metadata": {},
   "outputs": [
    {
     "name": "stdout",
     "output_type": "stream",
     "text": [
      "-1434.8237013100402\n"
     ]
    }
   ],
   "source": [
    "np.random.seed(1)\n",
    "\n",
    "lys_index = model.reactions.index('EX_lys')\n",
    "\n",
    "with pm.Model() as pymc_model:\n",
    "       \n",
    "    Ex_t = pm.Deterministic('Ex', initialize_elasticity(\n",
    "        ll.N,  b=0.05, sd=1, alpha=None,\n",
    "        m_compartments=m_compartments,\n",
    "        r_compartments=r_compartments\n",
    "    ))\n",
    "    Ey_t = T.zeros_like(ll.Ey, dtype='float32')\n",
    "    \n",
    "    # We don't know the expression (here, underexpression vs. reference) of\n",
    "    # each protein as a result of the plasmid integration. So, we use a\n",
    "    # symbolic variable for each protein in the enzyme expression matrix.\n",
    "    e_hat = T.ones((n_exp, nr))\n",
    "    e_hat_entries = pm.Uniform('e_hat_entries', lower=0, upper=1, shape=(5,))\n",
    "    \n",
    "    for i, rxns in enumerate(ox_order):\n",
    "        for rxn in rxns:\n",
    "            e_hat = T.set_subtensor(\n",
    "                e_hat[i, model.reactions.index(rxn)],\n",
    "                e_hat_entries[rxn_index[rxn]])\n",
    "            \n",
    "    # Store the fitted e_hat in the trace object\n",
    "    e_hat = pm.Deterministic('e_hat', e_hat)      \n",
    "\n",
    "with pymc_model:\n",
    "    trace_prior = pm.sample_prior_predictive()\n",
    "\n",
    "with pymc_model:\n",
    "    \n",
    "    # Calculate steady-state concentrations and fluxes from elasticities\n",
    "    xn, vn = ll.steady_state_theano(Ex_t, Ey_t, e_hat, np.ones((n_exp, ll.ny)))\n",
    "\n",
    "    # Error distribution for observed steady-state lysine out\n",
    "    lys_mean = pm.Deterministic('lys_mean', vn[:, lys_index])\n",
    "    ox_result = pm.Normal('ox_result', mu=lys_mean, sd=0.01, observed=ox_results)\n",
    "\n",
    "print(pymc_model.logpt.tag.test_value)"
   ]
  },
  {
   "cell_type": "markdown",
   "metadata": {},
   "source": [
    "### Running ADVI inference\n",
    "\n",
    "This is definitely the computationally intensive step (although fairly fast). Runs the ADVI optimization.\n",
    "The learning rate here is a critical parameter. Definitely adjust it around until you can get the elbo as low as possible."
   ]
  },
  {
   "cell_type": "code",
   "execution_count": 9,
   "metadata": {},
   "outputs": [
    {
     "name": "stderr",
     "output_type": "stream",
     "text": [
      "Average Loss = 250.57: 100%|██████████| 25000/25000 [02:54<00:00, 143.30it/s]\n",
      "Finished [100%]: Average Loss = 250.68\n"
     ]
    }
   ],
   "source": [
    "with pymc_model:\n",
    "    approx = pm.ADVI()\n",
    "    hist = approx.fit(n=25000, obj_optimizer=pm.adagrad_window(learning_rate=0.01),\n",
    "                      obj_n_mc=1)"
   ]
  },
  {
   "cell_type": "code",
   "execution_count": 10,
   "metadata": {},
   "outputs": [
    {
     "data": {
      "image/png": "[encoded data removed]",
      "text/plain": [
       "<matplotlib.figure.Figure at 0x7fd834d81160>"
      ]
     },
     "metadata": {},
     "output_type": "display_data"
    }
   ],
   "source": [
    "fig = plt.figure(figsize=(5,4))\n",
    "plt.semilogy(approx.hist, '.', ms=1)\n",
    "sns.despine(offset=10)\n",
    "\n",
    "plt.ylabel('-ELBO')\n",
    "plt.xlabel('Iteration')\n",
    "plt.tight_layout()\n",
    "\n",
    "# plt.savefig('contador_elbo.svg')"
   ]
  },
  {
   "cell_type": "code",
   "execution_count": 11,
   "metadata": {},
   "outputs": [
    {
     "name": "stderr",
     "output_type": "stream",
     "text": [
      "100%|██████████| 1000/1000 [00:22<00:00, 44.15it/s]\n"
     ]
    }
   ],
   "source": [
    "with pymc_model:\n",
    "    trace_vi = hist.sample(1000)\n",
    "    ppc_vi = pm.sample_ppc(trace_vi, samples=1000)"
   ]
  },
  {
   "cell_type": "code",
   "execution_count": 12,
   "metadata": {},
   "outputs": [
    {
     "data": {
      "text/plain": [
       "array([0.93547259, 0.92760139, 0.87124675, 0.75972515, 0.29532108,\n",
       "       0.0121418 ])"
      ]
     },
     "execution_count": 12,
     "metadata": {},
     "output_type": "execute_result"
    }
   ],
   "source": [
    "ppc_vi['ox_result'].mean(0)"
   ]
  },
  {
   "cell_type": "code",
   "execution_count": 13,
   "metadata": {},
   "outputs": [
    {
     "data": {
      "text/plain": [
       "array([0.54713508, 0.46963283, 0.36049005, 0.07378921, 0.00245538])"
      ]
     },
     "execution_count": 13,
     "metadata": {},
     "output_type": "execute_result"
    }
   ],
   "source": [
    "trace_vi['e_hat_entries'].mean(0)"
   ]
  },
  {
   "cell_type": "markdown",
   "metadata": {},
   "source": [
    "Plot the posterior predictive distributions in the estimated lysine flux, which shows that the estimated kinetic parameters closely reproduce the overexpression rankings"
   ]
  },
  {
   "cell_type": "code",
   "execution_count": 15,
   "metadata": {},
   "outputs": [
    {
     "data": {
      "image/png": "[encoded data removed]",
      "text/plain": [
       "<matplotlib.figure.Figure at 0x7fd89e349b00>"
      ]
     },
     "metadata": {},
     "output_type": "display_data"
    }
   ],
   "source": [
    "fig = plt.figure(figsize=(3.5,3.5))\n",
    "ax = fig.add_subplot(111)\n",
    "\n",
    "for i in range(n_exp):\n",
    "    \n",
    "    hpd = pm.hpd(trace_vi['lys_mean'][:, i]) * v_star[lys_index]\n",
    "    mean = trace_vi['lys_mean'][:, i].mean() * v_star[lys_index]\n",
    "    ax.errorbar(ox_results[i] * v_star[lys_index], mean, yerr=np.atleast_2d([mean-hpd[0], mean-hpd[1]]), marker='o', label=strains[i])\n",
    "    \n",
    "ax.plot(v_star[lys_index], v_star[lys_index], 'o', color='.4', label='dapA, lysC, dapB, dapD, dapE\\n(reference)')\n",
    "\n",
    "legend = ax.legend(loc='center left', bbox_to_anchor=(1., .5), title='Strain')\n",
    "plt.setp(legend.get_title(),fontsize='x-large')\n",
    "\n",
    "ax.plot([0, .4], [0, .4], ls='--', color='.8', zorder=0, lw=2)\n",
    "\n",
    "ax.set_xlabel('Measured lysene flux (mol L$^{-1}$ week$^{-1}$)')\n",
    "ax.set_ylabel('Predicted lysene flux\\n(mol L$^{-1}$ week$^{-1}$)')\n",
    "\n",
    "ax.set_xlim((-0.025, 0.4))\n",
    "ax.set_ylim((-0.025, 0.4))\n",
    "\n",
    "ax.set_xticks([0, .1, .2, .3, .4])\n",
    "\n",
    "sns.despine(trim=True)\n",
    "fig.savefig('lysine_flux_prediction.svg')\n",
    "\n",
    "    "
   ]
  },
  {
   "cell_type": "code",
   "execution_count": 16,
   "metadata": {},
   "outputs": [],
   "source": [
    "# fig = plt.figure()\n",
    "# ax = fig.add_subplot(111)\n",
    "\n",
    "# ax.axvline(1, lw=2.5, color='.4', label='dapA, lysC, dapB, dapD, dapE\\n(reference)', ls='--')\n",
    "\n",
    "# for amount in ox_results:\n",
    "#     ax.axvline(amount, lw=2.5, color='.4', ls='--')\n",
    "\n",
    "# for i in range(n_exp): \n",
    "#     pm.kdeplot(trace_vi['lys_mean'][:, i], shade=.1, ax=ax, label=strains[i])\n",
    "    \n",
    "    \n",
    "# legend = ax.legend(loc='center left', bbox_to_anchor=(1., .5), title='Strain')\n",
    "# plt.setp(legend.get_title(),fontsize='x-large')\n",
    "\n",
    "# ax.set_ylabel('Frequency')\n",
    "# ax.set_xlabel('Lysene flux (relative to reference)')\n",
    "\n",
    "# sns.despine(offset=10)\n",
    "\n",
    "# ax.set_xlim([-.2, 1.6])\n",
    "# ax.set_ylim([0, 25])\n",
    "\n",
    "# # fig.tight_layout()\n",
    "# sns.despine(trim=True)\n",
    "# # fig.savefig('sequential_ox.svg', transparent=True)"
   ]
  },
  {
   "cell_type": "markdown",
   "metadata": {},
   "source": [
    "Re-index the elasticity values for a boxplot"
   ]
  },
  {
   "cell_type": "code",
   "execution_count": 17,
   "metadata": {},
   "outputs": [],
   "source": [
    "e_guess = -N.T\n",
    "e_flat = e_guess.flatten()\n",
    "nonzero_inds = np.where(e_flat != 0)[0]\n",
    "zero_inds = np.where(e_flat == 0)[0]\n",
    "e_sign = np.sign(e_flat[nonzero_inds])\n",
    "flat_indexer = np.hstack([nonzero_inds, zero_inds]).argsort()"
   ]
  },
  {
   "cell_type": "code",
   "execution_count": 18,
   "metadata": {},
   "outputs": [],
   "source": [
    "identifiable_elasticies = (np.diff(pm.hpd(trace_vi['ex_kinetic_entries'])) < .75).flatten()\n",
    "\n",
    "mlabels = [m.id for m in model.metabolites]\n",
    "rlabels = [r.id for r in model.reactions]\n",
    "\n",
    "e_labels = np.array([['$\\epsilon_{' + '{0},{1}'.format(rlabel, mlabel) + '}$'\n",
    "                      for mlabel in mlabels] for rlabel in rlabels]).flatten()\n",
    "\n",
    "elast_nonzero = pd.DataFrame((trace_vi['ex_kinetic_entries'] * e_sign)[:, identifiable_elasticies],\n",
    "                             columns=e_labels[nonzero_inds][identifiable_elasticies])"
   ]
  },
  {
   "cell_type": "code",
   "execution_count": 19,
   "metadata": {},
   "outputs": [
    {
     "data": {
      "text/plain": [
       "0"
      ]
     },
     "execution_count": 19,
     "metadata": {},
     "output_type": "execute_result"
    }
   ],
   "source": [
    "null = pd.DataFrame(pm.hpd(trace_vi['ex_capacity_entries']))\n",
    "sig = np.sign(null)[0] == np.sign(null)[1]\n",
    "sum(sig)"
   ]
  },
  {
   "cell_type": "code",
   "execution_count": 20,
   "metadata": {},
   "outputs": [],
   "source": [
    "elast_zero = pd.DataFrame(trace_vi['ex_capacity_entries'][:, sig], columns=e_labels[zero_inds[sig]])\n",
    "elast_posterior = elast_nonzero.iloc[:, elast_nonzero.mean().argsort()].join(elast_zero)"
   ]
  },
  {
   "cell_type": "code",
   "execution_count": 21,
   "metadata": {},
   "outputs": [],
   "source": [
    "elast_prior = pd.DataFrame(\n",
    "    trace_prior['Ex'].reshape(500, -1), columns=e_labels\n",
    ").reindex(columns=elast_posterior.columns)"
   ]
  },
  {
   "cell_type": "code",
   "execution_count": 29,
   "metadata": {},
   "outputs": [
    {
     "data": {
      "image/png": "[encoded data removed]",
      "text/plain": [
       "<matplotlib.figure.Figure at 0x7fd82e630f98>"
      ]
     },
     "metadata": {},
     "output_type": "display_data"
    }
   ],
   "source": [
    "fig = plt.figure()\n",
    "ax = fig.add_subplot(111)\n",
    "\n",
    "_ = sns.boxplot(data=elast_posterior, fliersize=0, ax=ax, zorder=2)\n",
    "_ = sns.boxplot(data=elast_prior, fliersize=0, zorder=0, showmeans=False,\n",
    "                 capprops=dict(color='.9', zorder=0), medianprops=dict(color='.9', zorder=0.5),\n",
    "                 whiskerprops=dict(color='.9', zorder=0), boxprops=dict(color='.9', facecolor='w', zorder=0), ax=ax)\n",
    "\n",
    "\n",
    "_ = ax.set_xticklabels(ax.get_xticklabels(), rotation=90)\n",
    "ax.axhline(0, ls='--', color='.5', zorder=1)\n",
    "#ax.axvline(elast_nonzero.shape[1] - .5, color='.5', ls='--')\n",
    "\n",
    "ax.set_ylabel('Elasticity')\n",
    "sns.despine(trim=True)\n",
    "\n",
    "ax.set_yticks([-3, -2, -1, 0, 1, 2, 3])\n",
    "ax.set_ylim([-3, 3])\n",
    "\n",
    "\n",
    "ax.set_xlim(-.75, elast_nonzero.shape[1] + elast_zero.shape[1] - .5)\n",
    "sns.despine(ax=ax, trim=True)\n",
    "\n",
    "plt.tight_layout()\n",
    "plt.savefig('contador_elasticities.svg')"
   ]
  },
  {
   "cell_type": "code",
   "execution_count": 30,
   "metadata": {},
   "outputs": [],
   "source": [
    "fcc = pd.DataFrame(np.array([ll.flux_control_coefficient(Ex=trace_vi['Ex'][i])[lys_index]\n",
    "                             for i in range(len(trace_vi))]),\n",
    "                   columns=[r.id for r in model.reactions])\n",
    "\n",
    "fcc_prior = pd.DataFrame(np.array([ll.flux_control_coefficient(\n",
    "    Ex=trace_prior['Ex'][i])[lys_index]\n",
    "                                   for i in range(len(trace_prior))]),\n",
    "                   columns=[r.id for r in model.reactions])\n",
    "\n",
    "# Calculate the fcc values that have 95% Highest Posterior Densities with a consistent direction.\n",
    "hpd = pm.hpd(fcc.values)\n",
    "fcc_consistent = np.sign(hpd[:, 0]) == np.sign(hpd[:, 1])"
   ]
  },
  {
   "cell_type": "code",
   "execution_count": 31,
   "metadata": {},
   "outputs": [
    {
     "data": {
      "image/png": "[encoded data removed]",
      "text/plain": [
       "<matplotlib.figure.Figure at 0x7fd82e7612b0>"
      ]
     },
     "metadata": {},
     "output_type": "display_data"
    }
   ],
   "source": [
    "fig = plt.figure()\n",
    "ax = fig.add_subplot(111)\n",
    "\n",
    "for i, (name, col) in enumerate(fcc.iteritems()):\n",
    "    \n",
    "    if name in fcc.columns[fcc_consistent]:\n",
    "        color='g'\n",
    "    \n",
    "        l_g = ax.plot([i, i], pm.hpd(col), color=color)\n",
    "        dot_g = ax.plot(i, col.median(), '.', color=color, ms=15)\n",
    "\n",
    "    else:\n",
    "        color='.4'\n",
    "    \n",
    "        l_4 = ax.plot([i, i], pm.hpd(col), color=color)\n",
    "        dot_4 = ax.plot(i, col.median(), '.', color=color, ms=15)\n",
    "    \n",
    "    l_p = ax.plot([i, i], pm.hpd(fcc_prior[name]), color='.8', zorder=0)\n",
    "    \n",
    "\n",
    "\n",
    "ax.axhline(0, ls='--', color='.8', zorder=0)\n",
    "\n",
    "#ax.set_ylim([-5E-5, 1E-4])\n",
    "# ax.set_xlim([-1, 16])\n",
    "\n",
    "plt.ticklabel_format(axis='y', style='sci', scilimits=(-2,2))\n",
    "ax.set_ylabel('Flux control coefficient\\n(lysene out)')\n",
    "\n",
    "ax.set_xlabel('Reaction')\n",
    "\n",
    "plt.legend((l_p[0], (l_4[0], dot_4[0]), (l_g[0], dot_g[0]), ),\n",
    "           ('Prior', 'Posterior\\n(Overlaps zero)', 'Posterior\\n(Consistent)'),\n",
    "           borderaxespad=0, borderpad=0, ncol=3)\n",
    "\n",
    "\n",
    "xs = np.where(fcc_consistent)[0]\n",
    "ys = fcc.loc[:, fcc_consistent].mean(0).values\n",
    "labels = fcc.columns[fcc_consistent]\n",
    "\n",
    "plt.ylim([-.6, .6])\n",
    "plt.xlim([-1, ll.nr])\n",
    "plt.tight_layout()\n",
    "\n",
    "sns.despine(trim=False, offset=10)\n",
    "plt.savefig('fccs_contador.svg', transparent=True)"
   ]
  },
  {
   "cell_type": "code",
   "execution_count": 32,
   "metadata": {},
   "outputs": [
    {
     "data": {
      "text/plain": [
       "Index(['asd', 'dapA', 'dapB', 'dapD', 'dapE', 'lysC'], dtype='object')"
      ]
     },
     "execution_count": 32,
     "metadata": {},
     "output_type": "execute_result"
    }
   ],
   "source": [
    "fcc.columns[fcc_consistent]"
   ]
  }
 ],
 "metadata": {
  "kernelspec": {
   "display_name": "Python 3",
   "language": "python",
   "name": "python3"
  },
  "language_info": {
   "codemirror_mode": {
    "name": "ipython",
    "version": 3
   },
   "file_extension": ".py",
   "mimetype": "text/x-python",
   "name": "python",
   "nbconvert_exporter": "python",
   "pygments_lexer": "ipython3",
   "version": "3.6.5"
  }
 },
 "nbformat": 4,
 "nbformat_minor": 2
}
